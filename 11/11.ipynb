{
 "cells": [
  {
   "cell_type": "code",
   "execution_count": 8,
   "metadata": {},
   "outputs": [
    {
     "name": "stdout",
     "output_type": "stream",
     "text": [
      "229682160383225\n"
     ]
    }
   ],
   "source": [
    "from collections import Counter\n",
    "\n",
    "with open('11.txt', 'r') as f:\n",
    "  stones: Counter[int] = Counter(map(int, f.read().split()))\n",
    "\n",
    "def transform(stone: int) -> list[int]:\n",
    "  if stone == 0: return [1]\n",
    "  elif len(str_stone := str(stone)) % 2 == 0:\n",
    "    m: int = len(str_stone)//2\n",
    "    return [int(str_stone[:m]), int(str_stone[m:])]\n",
    "  else: return [stone*2024]\n",
    "\n",
    "def blink(stones: Counter[int]) -> Counter[int]:\n",
    "  new_stones: Counter[int] = Counter()\n",
    "  for stone, count in stones.items():\n",
    "    for new_stone in transform(stone):\n",
    "      new_stones[new_stone] += count\n",
    "  return new_stones\n",
    "\n",
    "for _ in range(75): stones = blink(stones)\n",
    "print(sum(stones.values()))"
   ]
  }
 ],
 "metadata": {
  "kernelspec": {
   "display_name": "venv312",
   "language": "python",
   "name": "python3"
  },
  "language_info": {
   "codemirror_mode": {
    "name": "ipython",
    "version": 3
   },
   "file_extension": ".py",
   "mimetype": "text/x-python",
   "name": "python",
   "nbconvert_exporter": "python",
   "pygments_lexer": "ipython3",
   "version": "3.13.0"
  }
 },
 "nbformat": 4,
 "nbformat_minor": 2
}
