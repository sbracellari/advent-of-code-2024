{
 "cells": [
  {
   "cell_type": "code",
   "execution_count": 59,
   "metadata": {},
   "outputs": [
    {
     "data": {
      "text/plain": [
       "493"
      ]
     },
     "execution_count": 59,
     "metadata": {},
     "output_type": "execute_result"
    }
   ],
   "source": [
    "with open('02.txt', 'r') as f:\n",
    "  reports: list[list[int]] = [[int(l) for l in r.split()] for r in f.read().split('\\n')]\n",
    "\n",
    "def is_safe(r: list[int]) -> bool:\n",
    "  return (r == sorted(r) or r == sorted(r, reverse=True)) and all([1 <= abs(x-y) <= 3 for x, y in zip(r[0::], r[1::])])\n",
    "\n",
    "def num_safe_reports(reports: list[list[int]], tolerance: bool = False) -> int:\n",
    "  count: int = 0\n",
    "  for r in reports:\n",
    "    if (is_safe(r)): count += 1\n",
    "    elif (not tolerance): continue\n",
    "    else:\n",
    "      for i in range(0, len(r)):\n",
    "        tmp: list[int] = r.copy()\n",
    "        del tmp[i]\n",
    "        if (is_safe(tmp)):\n",
    "          count += 1  \n",
    "          break     \n",
    "  return(count)\n",
    "      \n",
    "num_safe_reports(reports, True)"
   ]
  }
 ],
 "metadata": {
  "kernelspec": {
   "display_name": "venv312",
   "language": "python",
   "name": "python3"
  },
  "language_info": {
   "codemirror_mode": {
    "name": "ipython",
    "version": 3
   },
   "file_extension": ".py",
   "mimetype": "text/x-python",
   "name": "python",
   "nbconvert_exporter": "python",
   "pygments_lexer": "ipython3",
   "version": "3.13.0"
  }
 },
 "nbformat": 4,
 "nbformat_minor": 2
}
