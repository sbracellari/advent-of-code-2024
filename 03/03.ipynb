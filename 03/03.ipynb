{
 "cells": [
  {
   "cell_type": "code",
   "execution_count": 64,
   "metadata": {},
   "outputs": [
    {
     "data": {
      "text/plain": [
       "155955228"
      ]
     },
     "execution_count": 64,
     "metadata": {},
     "output_type": "execute_result"
    }
   ],
   "source": [
    "import re\n",
    "\n",
    "cond: bool = True\n",
    "\n",
    "with open('03.txt', 'r') as f:\n",
    "  mem: str = f.read() if not cond else ''.join(re.findall(r\"do\\(\\).*?(?=don't\\(\\))\", f.read()))\n",
    "\n",
    "muls: list[str] = re.findall(r\"mul\\(\\d{1,3},\\d{1,3}\\)\", mem)\n",
    "t: int = sum([[p:= 1, [p:=p*int(n) for n in re.findall(r\"\\d+\", mul)]][-1][-1] for mul in muls])"
   ]
  }
 ],
 "metadata": {
  "kernelspec": {
   "display_name": "venv312",
   "language": "python",
   "name": "python3"
  },
  "language_info": {
   "codemirror_mode": {
    "name": "ipython",
    "version": 3
   },
   "file_extension": ".py",
   "mimetype": "text/x-python",
   "name": "python",
   "nbconvert_exporter": "python",
   "pygments_lexer": "ipython3",
   "version": "3.13.0"
  }
 },
 "nbformat": 4,
 "nbformat_minor": 2
}
