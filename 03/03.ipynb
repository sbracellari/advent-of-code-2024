{
 "cells": [
  {
   "cell_type": "code",
   "execution_count": 1,
   "metadata": {},
   "outputs": [
    {
     "name": "stdout",
     "output_type": "stream",
     "text": [
      "ignoring conditionals: 155955228\n",
      "reading conditionals: 100189366\n"
     ]
    }
   ],
   "source": [
    "import re\n",
    "\n",
    "def dot_product(ignore_conditionals: bool = True) -> int:\n",
    "  with open('03.txt', 'r') as f:\n",
    "    mem: str = f.read() if ignore_conditionals else ''.join(re.findall(r\"do\\(\\).*?(?=don't\\(\\))\", f.read()))\n",
    "\n",
    "  muls: list[str] = re.findall(r\"mul\\(\\d{1,3},\\d{1,3}\\)\", mem)\n",
    "  return sum([[p:= 1, [p:=p*int(n) for n in re.findall(r\"\\d+\", mul)]][-1][-1] for mul in muls])\n",
    "\n",
    "print('ignoring conditionals:', dot_product())\n",
    "print('reading conditionals:', dot_product(False))"
   ]
  }
 ],
 "metadata": {
  "kernelspec": {
   "display_name": "venv312",
   "language": "python",
   "name": "python3"
  },
  "language_info": {
   "codemirror_mode": {
    "name": "ipython",
    "version": 3
   },
   "file_extension": ".py",
   "mimetype": "text/x-python",
   "name": "python",
   "nbconvert_exporter": "python",
   "pygments_lexer": "ipython3",
   "version": "3.13.0"
  }
 },
 "nbformat": 4,
 "nbformat_minor": 2
}
