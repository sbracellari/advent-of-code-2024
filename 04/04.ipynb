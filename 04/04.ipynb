{
 "cells": [
  {
   "cell_type": "code",
   "execution_count": 57,
   "metadata": {},
   "outputs": [
    {
     "data": {
      "text/plain": [
       "2549"
      ]
     },
     "execution_count": 57,
     "metadata": {},
     "output_type": "execute_result"
    }
   ],
   "source": [
    "import re \n",
    "\n",
    "with open('04.txt', 'r') as f:\n",
    "  ws: list[str] = f.read().split('\\n')\n",
    "  ws_R: list[str] = [line[::-1] for line in ws] # reversed\n",
    "\n",
    "dim: int = len(ws) # square word search\n",
    "\n",
    "ws_T: list[str] = [''.join([row[i] for row in ws]) for i in range(len(ws[0]))] # transpose\n",
    "\n",
    "# used https://stackoverflow.com/questions/6313308/get-all-the-diagonals-in-a-matrix-list-of-lists-in-python/6313407#6313407\n",
    "# for a mathematical way to get diagonals of a matrix\n",
    "\n",
    "ws_D: list[str] = [''.join([ws[dim-1-q][p-q] for q in range(min(p, dim-1), max(0, p-dim+1)-1, -1)]) for p in range(2*dim-1)] # diagonal\n",
    "ws_RD: list[str] = [''.join([ws_R[dim-1-q][p-q] for q in range(min(p, dim-1), max(0, p-dim+1)-1, -1)]) for p in range(2*dim-1)] # reversed diagonal\n",
    "\n",
    "horizontal: int = (\n",
    "  sum([len(list(re.finditer('XMAS', line))) for line in ws]) + \n",
    "  sum([len(list(re.finditer('SAMX', line))) for line in ws]))\n",
    "\n",
    "vertical: int = (\n",
    "  sum([len(list(re.finditer('XMAS', line))) for line in ws_T]) + \n",
    "  sum([len(list(re.finditer('SAMX', line))) for line in ws_T]))\n",
    "\n",
    "diagonal: int = (\n",
    "  sum([len(list(re.finditer('XMAS', line))) for line in ws_D]) + \n",
    "  sum([len(list(re.finditer('SAMX', line))) for line in ws_D]) +\n",
    "  sum([len(list(re.finditer('XMAS', line))) for line in ws_RD]) +\n",
    "  sum([len(list(re.finditer('SAMX', line))) for line in ws_RD]))\n",
    "\n",
    "horizontal + vertical + diagonal"
   ]
  },
  {
   "cell_type": "code",
   "execution_count": null,
   "metadata": {},
   "outputs": [
    {
     "data": {
      "text/plain": [
       "2003"
      ]
     },
     "execution_count": 56,
     "metadata": {},
     "output_type": "execute_result"
    }
   ],
   "source": [
    "with open('04.txt', 'r') as f:\n",
    "  ws: list[str] = f.read().split('\\n')\n",
    "\n",
    "dim: int = len(ws) # square word search\n",
    "count: int = 0\n",
    "matches: list[str] = ['MAS', 'SAM']\n",
    "\n",
    "for i in range(1, dim-1):\n",
    "  for j in range(1, dim-1):\n",
    "    if ws[i][j] == 'A': \n",
    "      d1: str = ws[i-1][j-1] + 'A' + ws[i+1][j+1]\n",
    "      d2: str = ws[i+1][j-1] + 'A' + ws[i-1][j+1]\n",
    "      if (d1 in matches and d2 in matches): count += 1\n",
    "\n",
    "count"
   ]
  }
 ],
 "metadata": {
  "kernelspec": {
   "display_name": "venv312",
   "language": "python",
   "name": "python3"
  },
  "language_info": {
   "codemirror_mode": {
    "name": "ipython",
    "version": 3
   },
   "file_extension": ".py",
   "mimetype": "text/x-python",
   "name": "python",
   "nbconvert_exporter": "python",
   "pygments_lexer": "ipython3",
   "version": "3.13.0"
  }
 },
 "nbformat": 4,
 "nbformat_minor": 2
}
