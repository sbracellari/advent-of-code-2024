{
 "cells": [
  {
   "cell_type": "code",
   "execution_count": 169,
   "metadata": {},
   "outputs": [
    {
     "data": {
      "text/plain": [
       "6395800119709"
      ]
     },
     "execution_count": 169,
     "metadata": {},
     "output_type": "execute_result"
    }
   ],
   "source": [
    "with open('09.txt', 'r') as f:\n",
    "  disk_map: str = f.read()\n",
    "\n",
    "blocks: list[str] = sum([([str(i//2)]*int(x)) if i % 2 == 0 else ['.']*int(x) for i, x in enumerate(disk_map)], [])\n",
    "end: int = len(blocks) - 1\n",
    "\n",
    "for i in range(len(blocks)):\n",
    "  if (blocks[i] == '.'):\n",
    "    while (blocks[end] == '.'): end -= 1\n",
    "    if (end > i): blocks[i], blocks[end] = blocks[end], blocks[i]\n",
    "\n",
    "checksum: int = sum([i*int(b) if b != '.' else 0 for i, b in enumerate(blocks)])\n",
    "checksum"
   ]
  },
  {
   "cell_type": "code",
   "execution_count": null,
   "metadata": {},
   "outputs": [
    {
     "data": {
      "text/plain": [
       "6418529470362"
      ]
     },
     "execution_count": 172,
     "metadata": {},
     "output_type": "execute_result"
    }
   ],
   "source": [
    "with open('09.txt', 'r') as f:\n",
    "  disk_map: str = f.read()\n",
    "\n",
    "blocks: list[list[str]] = [([str(i//2)]*int(x)) if i % 2 == 0 else ['.']*int(x) for i, x in enumerate(disk_map)]\n",
    "end: int = len(blocks) - 1\n",
    "\n",
    "for i in range(len(blocks)):\n",
    "  start: int = 0\n",
    "  \n",
    "  while ('.' in blocks[end]): end -= 1\n",
    "  while ('.' not in blocks[start]): start += 1\n",
    "  while (start < end):\n",
    "    if ('.' in blocks[start] and '.' not in blocks[end] and len(blocks[start]) >= len(blocks[end])): \n",
    "      c: int = len(blocks[start])\n",
    "      l: int = min(len(blocks[start]), len(blocks[end]))\n",
    "      blocks[start] = blocks[end][:l]\n",
    "      blocks[end] = ['.' for _ in range(l)]\n",
    "      if (c > l): \n",
    "        blocks.insert(start+1, ['.']*(c-l))\n",
    "        end += 1\n",
    "      end -= 1\n",
    "      start = 0\n",
    "    else: \n",
    "      start += 1\n",
    "  end -= 1\n",
    "\n",
    "new_blocks: list[str] = sum(blocks, [])\n",
    "checksum: int = sum([i*int(b) if b != '.' else 0 for i, b in enumerate(new_blocks)])\n",
    "checksum"
   ]
  }
 ],
 "metadata": {
  "kernelspec": {
   "display_name": "venv312",
   "language": "python",
   "name": "python3"
  },
  "language_info": {
   "codemirror_mode": {
    "name": "ipython",
    "version": 3
   },
   "file_extension": ".py",
   "mimetype": "text/x-python",
   "name": "python",
   "nbconvert_exporter": "python",
   "pygments_lexer": "ipython3",
   "version": "3.13.0"
  }
 },
 "nbformat": 4,
 "nbformat_minor": 2
}
