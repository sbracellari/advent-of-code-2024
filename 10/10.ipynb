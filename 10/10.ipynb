{
 "cells": [
  {
   "cell_type": "code",
   "execution_count": null,
   "metadata": {},
   "outputs": [
    {
     "data": {
      "text/plain": [
       "1651"
      ]
     },
     "execution_count": 27,
     "metadata": {},
     "output_type": "execute_result"
    }
   ],
   "source": [
    "with open('10.txt', 'r') as f:\n",
    "  map: list[list[str]] = [[c for c in l] for l in f.read().split('\\n')]\n",
    "\n",
    "trails: dict[tuple[int, int], list[tuple[int, int]]] = {}\n",
    "dim: int = len(map) # square map\n",
    "\n",
    "def walk_path(trails, map: list[list[str]], start: tuple[int, int], y: int, x: int, level: int = 0) -> dict[tuple[int, int], list[tuple[int, int]]]:\n",
    "  if (level + 1 == 10 and (y, x)): trails[start].append((y, x))\n",
    "  if (y > 0 and map[y-1][x] == str(level+1)): walk_path(trails, map, start, y-1, x, level+1)\n",
    "  if (y < dim-1 and map[y+1][x] == str(level+1)): walk_path(trails, map, start, y+1, x, level+1)\n",
    "  if (x > 0 and map[y][x-1] == str(level+1)): walk_path(trails, map, start, y, x-1, level+1)\n",
    "  if (x < dim-1 and map[y][x+1] == str(level+1)): walk_path(trails, map, start, y, x+1, level+1)\n",
    "\n",
    "  return trails\n",
    "\n",
    "for i in range(dim):\n",
    "  for j in range(dim):\n",
    "    if map[i][j] == '0':\n",
    "      trails[(i, j)] = []\n",
    "      trails = walk_path(trails, map, (i, j), i, j)\n",
    "\n",
    "# sum([len(set(v)) for v in trails.values()]) for part 1\n",
    "sum([len(v) for v in trails.values()])"
   ]
  }
 ],
 "metadata": {
  "kernelspec": {
   "display_name": "venv312",
   "language": "python",
   "name": "python3"
  },
  "language_info": {
   "codemirror_mode": {
    "name": "ipython",
    "version": 3
   },
   "file_extension": ".py",
   "mimetype": "text/x-python",
   "name": "python",
   "nbconvert_exporter": "python",
   "pygments_lexer": "ipython3",
   "version": "3.13.0"
  }
 },
 "nbformat": 4,
 "nbformat_minor": 2
}
