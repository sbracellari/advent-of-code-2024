{
 "cells": [
  {
   "cell_type": "code",
   "execution_count": 24,
   "metadata": {},
   "outputs": [
    {
     "data": {
      "text/plain": [
       "92827349540204.0"
      ]
     },
     "execution_count": 24,
     "metadata": {},
     "output_type": "execute_result"
    }
   ],
   "source": [
    "import re\n",
    "\n",
    "Machine = dict[str, list[int]]\n",
    "\n",
    "with open('13.txt', 'r') as f: \n",
    "  machines: list[Machine] = [{'A' if i == 0 else ('B' if i == 1 else 'PRIZE'): [int(n) for n in re.findall(r'\\d+', s)] for i, s in enumerate(l.split('\\n'))} for l in f.read().split('\\n\\n')]\n",
    "\n",
    "# use cramer's rule for a 2x2 system to solve for A and B\n",
    "# A = (p_x*b_y - p_y*b_x) / (a_x*b_y - a_y*b_x)\n",
    "# B = (a_x*p_y - a_y*p_x) / (a_x*b_y - a_y*b_x)\n",
    "\n",
    "def solve_machine(machine: Machine, offset: int = 0) -> float: \n",
    "  p: list[int] = [p + offset for p in machine['PRIZE']]\n",
    "  a: list[int] = machine['A']\n",
    "  b: list[int] = machine['B']\n",
    "\n",
    "  A: float = (p[0]*b[1] - p[1]*b[0]) / (a[0]*b[1] - a[1]*b[0])\n",
    "  B: float = (a[0]*p[1] - a[1]*p[0]) / (a[0]*b[1] - a[1]*b[0])\n",
    "\n",
    "  return (3*A + B) if (int(A) == A and int(B) == B) else 0.0 \n",
    "\n",
    "sum([solve_machine(machine, 10000000000000) for machine in machines])\n"
   ]
  }
 ],
 "metadata": {
  "kernelspec": {
   "display_name": "venv312",
   "language": "python",
   "name": "python3"
  },
  "language_info": {
   "codemirror_mode": {
    "name": "ipython",
    "version": 3
   },
   "file_extension": ".py",
   "mimetype": "text/x-python",
   "name": "python",
   "nbconvert_exporter": "python",
   "pygments_lexer": "ipython3",
   "version": "3.13.0"
  }
 },
 "nbformat": 4,
 "nbformat_minor": 2
}
