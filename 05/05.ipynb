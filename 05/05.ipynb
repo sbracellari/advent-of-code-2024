{
 "cells": [
  {
   "cell_type": "code",
   "execution_count": 30,
   "metadata": {},
   "outputs": [],
   "source": [
    "with open('05.txt', 'r') as f:\n",
    "  r: str\n",
    "  u: str\n",
    "  r, u = f.read().split('\\n\\n')\n",
    "  rules: list[list[int]] = [[int(r) for r in rule.split('|')] for rule in r.split('\\n')]\n",
    "  updates: list[list[int]] = [[int(u) for u in update.split(',')] for update in u.split('\\n')]"
   ]
  },
  {
   "cell_type": "code",
   "execution_count": 31,
   "metadata": {},
   "outputs": [
    {
     "name": "stdout",
     "output_type": "stream",
     "text": [
      "total: 7365\n"
     ]
    }
   ],
   "source": [
    "total: int = 0\n",
    "broken_updates: list[list[int]] = []\n",
    "\n",
    "for update in updates:\n",
    "  count = 0\n",
    "  for u1, u2 in zip(update[0::], update[1::]):\n",
    "    if ([u1, u2] in rules): count += 1\n",
    "    else: \n",
    "      broken_updates.append(update)\n",
    "      break\n",
    "  if (count == len(update)-1): total += update[(len(update) - 1)//2]\n",
    " \n",
    "print('total:', total)"
   ]
  },
  {
   "cell_type": "code",
   "execution_count": null,
   "metadata": {},
   "outputs": [
    {
     "name": "stdout",
     "output_type": "stream",
     "text": [
      "total 5770\n"
     ]
    }
   ],
   "source": [
    "fixed_updates: list[list[int]] = []\n",
    "\n",
    "for (i, update) in enumerate(broken_updates):\n",
    "  cont: bool = True\n",
    "  \n",
    "  while (cont):\n",
    "    count=0\n",
    "    for j, (u1, u2) in enumerate(zip(update[0::], update[1::])):\n",
    "      if ([u1, u2] not in rules): \n",
    "        update: list[int] = update[:j] + [u2, u1] + update[j+2:]\n",
    "        break\n",
    "      else: count += 1\n",
    "      if (count == len(update)-1):\n",
    "        cont = False\n",
    "        fixed_updates.append(update)\n",
    "\n",
    "t: int = sum([f[(len(f)-1)//2] for f in fixed_updates])\n",
    "print('total:', t)"
   ]
  }
 ],
 "metadata": {
  "kernelspec": {
   "display_name": "venv312",
   "language": "python",
   "name": "python3"
  },
  "language_info": {
   "codemirror_mode": {
    "name": "ipython",
    "version": 3
   },
   "file_extension": ".py",
   "mimetype": "text/x-python",
   "name": "python",
   "nbconvert_exporter": "python",
   "pygments_lexer": "ipython3",
   "version": "3.13.0"
  }
 },
 "nbformat": 4,
 "nbformat_minor": 2
}
