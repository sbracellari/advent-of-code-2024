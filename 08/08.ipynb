{
 "cells": [
  {
   "cell_type": "code",
   "execution_count": 1,
   "metadata": {},
   "outputs": [],
   "source": [
    "from itertools import combinations\n",
    "\n",
    "Point = tuple[int, int]\n",
    "\n",
    "def add_points(y: Point, x: Point) -> Point: return y[0] + x[0], y[1] + x[1]\n",
    "def subtract_points(y: Point, x: Point) -> Point: return y[0] - x[0], y[1] - x[1]\n",
    "\n",
    "with open('08.txt', 'r') as f:\n",
    "  g: list[list[str]] = [[c for c in l] for l in f.read().split('\\n')]\n",
    "\n",
    "grid: dict[Point, str] = {(i, j): value for i, row in enumerate(g) for j, value in enumerate(row)}\n",
    "frequencies: set[str] = set(grid.values()) - {'.'}"
   ]
  },
  {
   "cell_type": "code",
   "execution_count": 2,
   "metadata": {},
   "outputs": [
    {
     "data": {
      "text/plain": [
       "392"
      ]
     },
     "execution_count": 2,
     "metadata": {},
     "output_type": "execute_result"
    }
   ],
   "source": [
    "antinodes: set[Point] = set()\n",
    "\n",
    "for f in frequencies:\n",
    "  locations: list[tuple[int, int]] = [k for k, v in grid.items() if v == f]\n",
    "  for l, r in combinations(locations, 2): # every possible pair in the list\n",
    "    slope: Point = subtract_points(l, r)\n",
    "    for p in add_points(l, slope), subtract_points(r, slope):\n",
    "      if p in grid: antinodes.add(p)\n",
    "\n",
    "len(antinodes)"
   ]
  },
  {
   "cell_type": "code",
   "execution_count": 3,
   "metadata": {},
   "outputs": [
    {
     "data": {
      "text/plain": [
       "1235"
      ]
     },
     "execution_count": 3,
     "metadata": {},
     "output_type": "execute_result"
    }
   ],
   "source": [
    "antinodes: set[Point] = set()\n",
    "\n",
    "for f in frequencies:\n",
    "  locations: list[Point] = [k for k, v in grid.items() if v == f]\n",
    "  for l, r in combinations(locations, 2): # every possible pair in the list\n",
    "    slope: Point = subtract_points(l, r)\n",
    "    for p, fn in (l, add_points), (r, subtract_points):\n",
    "      antinodes.add(p)\n",
    "\n",
    "      while (next_p := fn(p, slope)) in grid:\n",
    "        antinodes.add(next_p)\n",
    "        p = next_p\n",
    "\n",
    "len(antinodes)"
   ]
  }
 ],
 "metadata": {
  "kernelspec": {
   "display_name": "venv312",
   "language": "python",
   "name": "python3"
  },
  "language_info": {
   "codemirror_mode": {
    "name": "ipython",
    "version": 3
   },
   "file_extension": ".py",
   "mimetype": "text/x-python",
   "name": "python",
   "nbconvert_exporter": "python",
   "pygments_lexer": "ipython3",
   "version": "3.13.0"
  }
 },
 "nbformat": 4,
 "nbformat_minor": 2
}
