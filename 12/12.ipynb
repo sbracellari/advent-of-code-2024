{
 "cells": [
  {
   "cell_type": "code",
   "execution_count": 1,
   "metadata": {},
   "outputs": [
    {
     "data": {
      "text/plain": [
       "(1304764, 811148)"
      ]
     },
     "execution_count": 1,
     "metadata": {},
     "output_type": "execute_result"
    }
   ],
   "source": [
    "Point = tuple[int, int]\n",
    "Grid = dict[Point, bool]\n",
    "\n",
    "with open('12.txt', 'r') as f: raw_grid: list[str] = ['*'+l+'*' for l in f.read().split('\\n')]\n",
    "\n",
    "dim: int = len(raw_grid[0]) # square\n",
    "g: list[str] = ['*'*dim, *raw_grid, '*'*dim]\n",
    "garden: Grid = {(i, j): False for i in range(dim) for j in range(dim)}\n",
    "\n",
    "def floodfill(garden: Grid, region: str, y: int, x: int, area: int, sides: int, corners: int) -> tuple[int, int, int]:\n",
    "  if garden[y, x] or g[y][x] != region: return area, sides, corners\n",
    "\n",
    "  garden[y, x] = True\n",
    "  sides += count_sides(y, x, region)\n",
    "  corners += count_corners(y, x, region)\n",
    "  area += 1\n",
    "  \n",
    "  if x > 0: area, sides, corners = floodfill(garden, region, y, x-1, area, sides, corners)\n",
    "  if x < dim - 1: area, sides, corners = floodfill(garden, region, y, x+1, area, sides, corners)\n",
    "  if y > 0: area, sides, corners = floodfill(garden, region, y-1, x, area, sides, corners)\n",
    "  if y < dim - 1: area, sides, corners = floodfill(garden, region, y+1, x, area, sides, corners)\n",
    "  \n",
    "  return area, sides, corners\n",
    "\n",
    "\n",
    "def count_sides(y: int, x: int, region: str, s: int = 0) -> int:\n",
    "  if y == 0 or g[y-1][x] != region: s += 1\n",
    "  if y == dim-1 or g[y+1][x] != region: s += 1\n",
    "  if x == 0 or g[y][x-1] != region: s += 1\n",
    "  if x == dim-1 or g[y][x+1] != region: s += 1\n",
    "\n",
    "  return s\n",
    "\n",
    "def count_corners(y: int, x: int, region: str, c: int = 0) -> int:\n",
    "  # outside corners\n",
    "  if g[y+1][x] != region and g[y][x+1] != region: c += 1\n",
    "  if g[y+1][x] != region and g[y][x-1] != region: c += 1\n",
    "  if g[y-1][x] != region and g[y][x-1] != region: c += 1\n",
    "  if g[y-1][x] != region and g[y][x+1] != region: c += 1\n",
    "\n",
    "  # inside corners\n",
    "  if g[y+1][x] == region and g[y][x+1] == region and g[y+1][x+1] != region: c += 1\n",
    "  if g[y+1][x] == region and g[y][x-1] == region and g[y+1][x-1] != region: c += 1\n",
    "  if g[y-1][x] == region and g[y][x-1] == region and g[y-1][x-1] != region: c += 1\n",
    "  if g[y-1][x] == region and g[y][x+1] == region and g[y-1][x+1] != region: c += 1\n",
    "\n",
    "  return c\n",
    "\n",
    "ans: tuple[int, int] = (0, 0)\n",
    "for y in range(1, dim-1):\n",
    "  for x in range(1, dim-1):\n",
    "    if not garden[y, x]: \n",
    "      area, sides, corners = floodfill(garden, g[y][x], y, x, 0, 0, 0)\n",
    "      ans = (ans[0] + area*sides, ans[1] + area*corners)\n",
    "\n",
    "ans\n"
   ]
  }
 ],
 "metadata": {
  "kernelspec": {
   "display_name": "venv312",
   "language": "python",
   "name": "python3"
  },
  "language_info": {
   "codemirror_mode": {
    "name": "ipython",
    "version": 3
   },
   "file_extension": ".py",
   "mimetype": "text/x-python",
   "name": "python",
   "nbconvert_exporter": "python",
   "pygments_lexer": "ipython3",
   "version": "3.13.0"
  }
 },
 "nbformat": 4,
 "nbformat_minor": 2
}
