{
 "cells": [
  {
   "cell_type": "code",
   "execution_count": null,
   "metadata": {},
   "outputs": [
    {
     "data": {
      "text/plain": [
       "1153997401072"
      ]
     },
     "execution_count": 103,
     "metadata": {},
     "output_type": "execute_result"
    }
   ],
   "source": [
    "with open('07.txt', 'r') as f:\n",
    "  eqs: dict[int, list[int]] = dict([(int(line.split(':')[0]), [int(l) for l in line.split(':')[1].split()]) for line in f.read().split('\\n')])\n",
    "\n",
    "def to_base(n: int, base: int) -> str:\n",
    "  result: str = ''\n",
    "  while n > 0:\n",
    "    remainder: int\n",
    "    n, remainder = divmod(n, base)\n",
    "    result = str(remainder) + result\n",
    "  return result\n",
    "\n",
    "# 0 = +, 1 = *, 2 = ||\n",
    "def get_total(eqs: dict[int, list[int]], base: int) -> int:\n",
    "  total: int = 0\n",
    "  for target, nums in eqs.items():\n",
    "    operators: list[str] = ['1' + to_base(x, base).zfill(len(nums)-1) for x in range(base**(len(nums)-1))]\n",
    "    for o in operators:\n",
    "      t: int = 1; [t := int(str(t) + str(x[1])) if o[x[0]] == '2' else (t * x[1] if o[x[0]] == '1' else t + x[1]) for x in enumerate(nums)]\n",
    "      if (t == target):\n",
    "        total += t\n",
    "        break\n",
    "  return total\n",
    "\n",
    "get_total(eqs, 2)"
   ]
  }
 ],
 "metadata": {
  "kernelspec": {
   "display_name": "venv312",
   "language": "python",
   "name": "python3"
  },
  "language_info": {
   "codemirror_mode": {
    "name": "ipython",
    "version": 3
   },
   "file_extension": ".py",
   "mimetype": "text/x-python",
   "name": "python",
   "nbconvert_exporter": "python",
   "pygments_lexer": "ipython3",
   "version": "3.13.0"
  }
 },
 "nbformat": 4,
 "nbformat_minor": 2
}
