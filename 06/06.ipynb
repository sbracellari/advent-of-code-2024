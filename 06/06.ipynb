{
 "cells": [
  {
   "cell_type": "code",
   "execution_count": 29,
   "metadata": {},
   "outputs": [
    {
     "name": "stdout",
     "output_type": "stream",
     "text": [
      "spots visited 4433\n"
     ]
    }
   ],
   "source": [
    "with open('06.txt', 'r') as f:\n",
    "  map: list[list[str]] = [[c for c in l] for l in f.read().split('\\n')]\n",
    "\n",
    "dim: int = len(map) # square map\n",
    "pos: tuple[int, int] = [(y, x) for x in range(dim) for y in range(dim) if map[y][x] == '^'][0]\n",
    "visited: dict[tuple[int, int], str] = { }\n",
    "patrolling: bool = True\n",
    "d: str = '^'\n",
    "\n",
    "directions = '^>v<'\n",
    "directions_map: dict[str, tuple[int, int]] = {\n",
    "  '^': (-1, 0),\n",
    "  '>': (0, 1),\n",
    "  'v': (1, 0),\n",
    "  '<': (0, -1)\n",
    "}\n",
    "\n",
    "def patrol( p: tuple[int, int], map: list[list[str]], check_loops: bool = False) -> tuple[dict[tuple[int, int], str], int]:\n",
    "  loops: int = 0\n",
    "  vis: dict[tuple[int, int], str] = {}\n",
    "  d = '^'\n",
    "  patrolling: bool = True\n",
    "\n",
    "  while(patrolling):\n",
    "    next_pos: tuple[int, int] = (p[0]+directions_map[d][0], p[1]+directions_map[d][1])\n",
    "\n",
    "    if not (0<=next_pos[0]<dim and 0<=next_pos[1]<dim): \n",
    "      patrolling = False\n",
    "      break;\n",
    "    if check_loops and vis.get(next_pos) == d: \n",
    "      patrolling = False\n",
    "      loops += 1\n",
    "      break\n",
    "    if map[next_pos[0]][next_pos[1]] == '#':\n",
    "      d: str = directions[(directions.find(d)+1)%4]\n",
    "    else: \n",
    "      vis.update({ next_pos: d })\n",
    "      p = next_pos\n",
    "  return vis, loops\n",
    "\n",
    "visited: dict[tuple[int, int], str]\n",
    "_: int\n",
    "visited, _ = patrol(pos, map)\n",
    "print('spots visited', len(visited) + 1)\n"
   ]
  },
  {
   "cell_type": "code",
   "execution_count": 30,
   "metadata": {},
   "outputs": [
    {
     "data": {
      "text/plain": [
       "1516"
      ]
     },
     "execution_count": 30,
     "metadata": {},
     "output_type": "execute_result"
    }
   ],
   "source": [
    "start: tuple[int, int] = [(y, x) for x in range(dim) for y in range(dim) if map[y][x] == '^'][0]\n",
    "loops = 0\n",
    "\n",
    "for p in visited.keys():\n",
    "  map[p[0]][p[1]] = '#'\n",
    "  _: dict[tuple[int, int], str]\n",
    "  loop: int\n",
    "  _, loop = patrol(start, map, True)\n",
    "  loops += loop\n",
    "  map[p[0]][p[1]] = '.'\n",
    "\n",
    "loops"
   ]
  }
 ],
 "metadata": {
  "kernelspec": {
   "display_name": "venv312",
   "language": "python",
   "name": "python3"
  },
  "language_info": {
   "codemirror_mode": {
    "name": "ipython",
    "version": 3
   },
   "file_extension": ".py",
   "mimetype": "text/x-python",
   "name": "python",
   "nbconvert_exporter": "python",
   "pygments_lexer": "ipython3",
   "version": "3.13.0"
  }
 },
 "nbformat": 4,
 "nbformat_minor": 2
}
