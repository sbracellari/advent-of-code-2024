{
 "cells": [
  {
   "cell_type": "code",
   "execution_count": 1,
   "metadata": {},
   "outputs": [
    {
     "name": "stdout",
     "output_type": "stream",
     "text": [
      "number of spots visited: 4433\n"
     ]
    }
   ],
   "source": [
    "from typing import Callable\n",
    "\n",
    "with open('06.txt', 'r') as f:\n",
    "  map: list[list[str]] = [[c for c in l] for l in f.read().split('\\n')]\n",
    "\n",
    "dim: int = len(map) # square map\n",
    "pos: tuple[int, int] = [(y, x) for x in range(dim) for y in range(dim) if map[y][x] == '^'][0]\n",
    "visited: int = 1 # include starting position\n",
    "patrolling: bool = True\n",
    "direction: int = 0\n",
    "\n",
    "# ! important: pos = (y, x)\n",
    "def move_up(c: tuple[int, int]) -> tuple[tuple[int, int], bool, int]: \n",
    "  if (map[c[0]-1][c[1]] == '#'): return pos, True, 1 \n",
    "  else: return (c[0] - 1, c[1]), False if c[0] == 1 else True, 0\n",
    "\n",
    "def move_right(c: tuple[int, int]) -> tuple[tuple[int, int], bool, int]:\n",
    "  if (map[c[0]][c[1]+1] == '#'): return pos, True, 2\n",
    "  else: return (c[0], c[1] + 1), False if c[1] == dim - 2 else True, 1\n",
    "   \n",
    "def move_down(c: tuple[int, int]) -> tuple[tuple[int, int], bool, int]: \n",
    "  if (map[c[0]+1][c[1]] == '#'): return pos, True, 3\n",
    "  else: return (c[0] + 1, c[1]), False if c[0] == dim - 2 else True, 2\n",
    "\n",
    "def move_left(c: tuple[int, int]) -> tuple[tuple[int, int], bool, int]: \n",
    "  if (map[c[0]][c[1]-1] == '#'): return pos, True, 0\n",
    "  else: return (c[0], c[1] - 1), False if c[1] == 1 else True, 3\n",
    "\n",
    "directions: dict[int, Callable[..., tuple[tuple[int, int], bool, int]]] = {\n",
    "  0: move_up,\n",
    "  1: move_right,\n",
    "  2: move_down,\n",
    "  3: move_left\n",
    "}\n",
    "\n",
    "while (patrolling):\n",
    "  pos, patrolling, direction = directions[direction](pos)\n",
    "  if (map[pos[0]][pos[1]] == '.'):\n",
    "    map[pos[0]][pos[1]] = 'X'\n",
    "    visited += 1\n",
    "\n",
    "print('number of spots visited:', visited)"
   ]
  }
 ],
 "metadata": {
  "kernelspec": {
   "display_name": "venv312",
   "language": "python",
   "name": "python3"
  },
  "language_info": {
   "codemirror_mode": {
    "name": "ipython",
    "version": 3
   },
   "file_extension": ".py",
   "mimetype": "text/x-python",
   "name": "python",
   "nbconvert_exporter": "python",
   "pygments_lexer": "ipython3",
   "version": "3.13.0"
  }
 },
 "nbformat": 4,
 "nbformat_minor": 2
}
