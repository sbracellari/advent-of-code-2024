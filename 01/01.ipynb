{
 "cells": [
  {
   "cell_type": "code",
   "execution_count": 88,
   "metadata": {},
   "outputs": [],
   "source": [
    "with open('01.txt', 'r') as f:\n",
    "    data = f.read().split('\\n')\n",
    "\n",
    "l1: tuple[int]\n",
    "l2: tuple[int]\n",
    "\n",
    "l1, l2 = zip(*[[int(n) for n in x.split()] for x in data])\n",
    "t1: int = sum([abs(x-y) for (x, y) in zip(sorted(l1), sorted(l2))])\n",
    "t2: int = sum([x*l2.count(x) for x in l1])\n"
   ]
  }
 ],
 "metadata": {
  "kernelspec": {
   "display_name": "Python 3",
   "language": "python",
   "name": "python3"
  },
  "language_info": {
   "codemirror_mode": {
    "name": "ipython",
    "version": 3
   },
   "file_extension": ".py",
   "mimetype": "text/x-python",
   "name": "python",
   "nbconvert_exporter": "python",
   "pygments_lexer": "ipython3",
   "version": "3.13.0"
  }
 },
 "nbformat": 4,
 "nbformat_minor": 2
}
